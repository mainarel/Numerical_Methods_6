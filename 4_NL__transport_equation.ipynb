{
  "nbformat": 4,
  "nbformat_minor": 0,
  "metadata": {
    "colab": {
      "name": "4_NL _transport_equation.ipynb",
      "provenance": [],
      "authorship_tag": "ABX9TyNX22a8PIG4cDb2/P9bOZzh",
      "include_colab_link": true
    },
    "kernelspec": {
      "name": "python3",
      "display_name": "Python 3"
    },
    "language_info": {
      "name": "python"
    }
  },
  "cells": [
    {
      "cell_type": "markdown",
      "metadata": {
        "id": "view-in-github",
        "colab_type": "text"
      },
      "source": [
        "<a href=\"https://colab.research.google.com/github/mainarel/Numerical_Methods_6/blob/main/4_NL__transport_equation.ipynb\" target=\"_parent\"><img src=\"https://colab.research.google.com/assets/colab-badge.svg\" alt=\"Open In Colab\"/></a>"
      ]
    },
    {
      "cell_type": "code",
      "execution_count": 1,
      "metadata": {
        "id": "9HhrjDXrKBkh"
      },
      "outputs": [],
      "source": [
        "import numpy as np\n",
        "import matplotlib.pyplot as plt"
      ]
    },
    {
      "cell_type": "markdown",
      "source": [
        "# **Линейный перенос прямоугольного профиля:**"
      ],
      "metadata": {
        "id": "PFZVNi-TMC8l"
      }
    },
    {
      "cell_type": "code",
      "source": [
        "def f(u, aa):\n",
        "  return aa * u\n",
        "\n",
        "def a(u, aa):\n",
        "  return aa\n",
        "\n",
        "def phi(x):\n",
        "  return np.heaviside(x - 1, 1) * np.heaviside(2 - x, 1)\n",
        "\n",
        "def layer(prev, xrange, h, tau, const):\n",
        "    layerr = np.zeros(len(xrange))\n",
        "    for i in range(1, len(xrange) - 1):\n",
        "        layerr[i] = 1/2 *(prev[i+1] + prev[i-1]) - tau/(2*h) * (f(prev[i+1], const) - f(prev[i-1], const))\n",
        "        \n",
        "    return layerr\n"
      ],
      "metadata": {
        "id": "NUq8AC1qMKo_"
      },
      "execution_count": 34,
      "outputs": []
    },
    {
      "cell_type": "code",
      "source": [
        "from matplotlib.animation import FuncAnimation, PillowWriter\n",
        "\n",
        "aa = 2\n",
        "h = 0.01\n",
        "xmin = 0\n",
        "xmax = 10\n",
        "\n",
        "C = 0.9\n",
        "tau = (C * h) / aa\n",
        "\n",
        "xn = np.arange(xmin, xmax + h, h)\n",
        "u1 = phi(xn)\n",
        "u2 = layer(u1, xn, h, tau, aa)\n",
        "\n",
        "\n",
        "# C =  tau**(len(u2)) * (a(u2, aa)) / h\n",
        "if C <= 1:\n",
        "  print ('OK')\n",
        "\n",
        "\n",
        "fig = plt.figure(figsize=(10,5))\n",
        "ax = plt.axes(xlim=(0, 10), ylim=(-3, 3))\n",
        "ax.grid(True)\n",
        "line, = ax.plot([], [], color = 'pink')\n",
        "\n",
        "def init():\n",
        "    line.set_data([], [])\n",
        "    return line,\n",
        "\n",
        "def animate(i):\n",
        "    global u1,u2\n",
        "    if i == 0:\n",
        "        y = u1\n",
        "    elif i == 1:\n",
        "        y = u2\n",
        "    else:\n",
        "        u1 = np.copy(u2)\n",
        "        tau = (C * h) / aa\n",
        "        u2 = layer(u1, xn, h, tau, aa)\n",
        "        y = u2\n",
        "\n",
        "    line.set_data(xn, y)\n",
        "    return line,\n",
        "\n",
        "anim1 = FuncAnimation(fig, animate, init_func=init,\n",
        "                      frames=100, interval=50, blit=True)\n",
        "\n",
        "anim1.save('wave1.gif', writer='pillow')"
      ],
      "metadata": {
        "colab": {
          "base_uri": "https://localhost:8080/",
          "height": 342
        },
        "id": "n-eA8e6VOo6g",
        "outputId": "9fa50dc8-04c8-4f39-bfbe-73c432d3eea1"
      },
      "execution_count": 35,
      "outputs": [
        {
          "output_type": "stream",
          "name": "stdout",
          "text": [
            "OK\n"
          ]
        },
        {
          "output_type": "display_data",
          "data": {
            "text/plain": [
              "<Figure size 720x360 with 1 Axes>"
            ],
            "image/png": "[encoded data removed]"
          },
          "metadata": {
            "needs_background": "light"
          }
        }
      ]
    },
    {
      "cell_type": "markdown",
      "source": [
        "# **Нелинейный перенос с разрывным решением (с опрокидыванием волны):**"
      ],
      "metadata": {
        "id": "7KzI5gXeOEHh"
      }
    },
    {
      "cell_type": "code",
      "source": [
        "def f(u, aa):\n",
        "  return u**2 / 2\n",
        "\n",
        "def a(u, aa):\n",
        "  return u\n",
        "\n",
        "def phi(x):\n",
        "  return (np.sin(np.pi * x / 2)) ** 2 * np.heaviside(x, 1) * np.heaviside(2 - x, 1)\n",
        "\n",
        "def layer(prev, xrange, h, tau, const):\n",
        "    layerr = np.zeros(len(xrange))\n",
        "    for i in range(1, len(xrange) - 1):\n",
        "        layerr[i] = 1/2 *(prev[i+1] + prev[i-1]) - tau/(2*h) * (f(prev[i+1], const) - f(prev[i-1], const))\n",
        "    return layerr\n"
      ],
      "metadata": {
        "id": "EuSrNWTiOBb0"
      },
      "execution_count": 44,
      "outputs": []
    },
    {
      "cell_type": "code",
      "source": [
        "from matplotlib.animation import FuncAnimation, PillowWriter\n",
        "\n",
        "aa = 2\n",
        "h = 0.01\n",
        "xmin = 0\n",
        "xmax = 10\n",
        "\n",
        "C = 0.9\n",
        "\n",
        "\n",
        "xn = np.arange(xmin, xmax + h, h)\n",
        "u3 = phi(xn)\n",
        "\n",
        "tau = (C * h) / max(a(u3,aa))\n",
        "u4 = layer(u3, xn, h, tau, aa)\n",
        "\n",
        "\n",
        "# C =  tau**(len(u2)) * (a(u2, aa)) / h\n",
        "if C <= 1:\n",
        "  print ('OK')\n",
        "\n",
        "\n",
        "fig = plt.figure(figsize=(10,5))\n",
        "ax = plt.axes(xlim=(0, 10), ylim=(-3, 3))\n",
        "ax.grid(True)\n",
        "line, = ax.plot([], [], color = 'pink')\n",
        "\n",
        "def init():\n",
        "    line.set_data([], [])\n",
        "    return line,\n",
        "\n",
        "def animate(i):\n",
        "    global u3,u4\n",
        "    if i == 0:\n",
        "        y = u3\n",
        "    elif i == 1:\n",
        "        y = u4\n",
        "    else:\n",
        "        u3 = np.copy(u4)\n",
        "        tau = (C * h) / max(a(u3,aa))\n",
        "        u4 = layer(u3, xn, h, tau, aa)\n",
        "        y = u4\n",
        "\n",
        "    line.set_data(xn, y)\n",
        "    return line,\n",
        "\n",
        "anim1 = FuncAnimation(fig, animate, init_func=init,\n",
        "                      frames=100, interval=50, blit=True)\n",
        "\n",
        "anim1.save('wave2.gif', writer='pillow')"
      ],
      "metadata": {
        "colab": {
          "base_uri": "https://localhost:8080/",
          "height": 342
        },
        "id": "pblA4SU2cPfX",
        "outputId": "83065dbb-ffc6-482f-a46d-bb2dbf668df4"
      },
      "execution_count": 45,
      "outputs": [
        {
          "output_type": "stream",
          "name": "stdout",
          "text": [
            "OK\n"
          ]
        },
        {
          "output_type": "display_data",
          "data": {
            "text/plain": [
              "<Figure size 720x360 with 1 Axes>"
            ],
            "image/png": "[encoded data removed]"
          },
          "metadata": {
            "needs_background": "light"
          }
        }
      ]
    }
  ]
}