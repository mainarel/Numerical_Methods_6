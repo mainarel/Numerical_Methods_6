{
  "nbformat": 4,
  "nbformat_minor": 0,
  "metadata": {
    "colab": {
      "name": "3_NL_heat_equation.ipynb",
      "provenance": [],
      "authorship_tag": "ABX9TyNCdwxX3sYnUxddk3b64uWR",
      "include_colab_link": true
    },
    "kernelspec": {
      "name": "python3",
      "display_name": "Python 3"
    },
    "language_info": {
      "name": "python"
    }
  },
  "cells": [
    {
      "cell_type": "markdown",
      "metadata": {
        "id": "view-in-github",
        "colab_type": "text"
      },
      "source": [
        "<a href=\"https://colab.research.google.com/github/mainarel/Numerical_Methods_6/blob/main/3_NL_heat_equation.ipynb\" target=\"_parent\"><img src=\"https://colab.research.google.com/assets/colab-badge.svg\" alt=\"Open In Colab\"/></a>"
      ]
    },
    {
      "cell_type": "code",
      "execution_count": 137,
      "metadata": {
        "id": "VaP6GdTmNIQs"
      },
      "outputs": [],
      "source": [
        "import numpy as np\n",
        "import matplotlib.pyplot as plt\n",
        "import math\n",
        "\n",
        "n, k, m = 1, -1/3, -1/3\n",
        "hi = 1\n",
        "u_0 = 1.25\n",
        "a0, b0, a1, b1 = 0, 1, 0, 1\n",
        "\n",
        "\n",
        "def alpha(n):\n",
        "  return math.sqrt(2*(n+2)/n)\n",
        "\n",
        "def f(x):\n",
        "  return n/(2*(n+2)) * ((alpha(n))**2 - x**2)  # x = [0, alpha]\n",
        "\n",
        "def u(x,t):\n",
        "    if (x >= 0) and (x < alpha(n) * math.sqrt(hi * u_0**n * t** (k*n+1))):\n",
        "        return u_0 * t**k * (f(x / math.sqrt((hi * u_0**n * t**(k*n+1))))) **(1/n)\n",
        "    else:\n",
        "        return 0\n",
        "\n",
        "\n",
        "def lmbd(uu):\n",
        "    return uu**n\n",
        "\n",
        "def gamma(t):\n",
        "    return u_0 * t**k\n"
      ]
    },
    {
      "cell_type": "markdown",
      "source": [
        "Прогонка:"
      ],
      "metadata": {
        "id": "8lyGGd_-tjox"
      }
    },
    {
      "cell_type": "code",
      "source": [
        "def thomas_algorithm(a, b, c, f, n):\n",
        "    A = np.zeros(n)\n",
        "    B = np.zeros(n)\n",
        "    y = np.zeros(n)\n",
        "\n",
        "    A[0] = -c[0] / b[0]\n",
        "    B[0] = f[0] / b[0]\n",
        "\n",
        "    for i in range(1, n - 1):\n",
        "        A[i] = -c[i] / (b[i] + a[i] * A[i - 1])\n",
        "    A[-1] = 0\n",
        "\n",
        "    for i in range(1, n):\n",
        "        B[i] = (f[i] - a[i] * B[i - 1]) / (b[i] + a[i] * A[i - 1])\n",
        "    y[-1] = B[-1]\n",
        "\n",
        "    for i in reversed(range(n-1)):\n",
        "        y[i] = B[i] + A[i] * y[i + 1]\n",
        "    return y"
      ],
      "metadata": {
        "id": "woCosn3vthE-"
      },
      "execution_count": 138,
      "outputs": []
    },
    {
      "cell_type": "code",
      "source": [
        "def p(prev, next, tau, step, xk, h):\n",
        "\n",
        "    a = np.zeros(len(xk))\n",
        "    b = np.zeros(len(xk))\n",
        "    c = np.zeros(len(xk))\n",
        "    d = np.zeros(len(xk))\n",
        "\n",
        "    d[0] = gamma(step*tau)\n",
        "    d[-1] = u(xk[-1],tau*step)\n",
        "\n",
        "    b[0] = -(a0/h) + b0\n",
        "    c[0] = a0/h\n",
        "\n",
        "    b[-1] = (a1 / h) + b1\n",
        "    a[-1] = -a1/h\n",
        "\n",
        "    for i in range(1, len(xk)-1):\n",
        "        a[i] = tau/(2*h**2) * (lmbd(next[i]) + lmbd(next[i - 1]))\n",
        "        b[i] = - tau/(2*h**2) * (2*lmbd(next[i]) + lmbd(next[i - 1]) + lmbd(next[i + 1])) - 1\n",
        "        c[i] = tau/(2*h**2) * (lmbd(next[i]) + lmbd(next[i + 1]))\n",
        "        d[i] = - prev[i]\n",
        "\n",
        "    return thomas_algorithm(a,b,c,d,len(xk))"
      ],
      "metadata": {
        "id": "bNHncPLdt-GT"
      },
      "execution_count": 139,
      "outputs": []
    },
    {
      "cell_type": "code",
      "source": [
        "h = 0.01\n",
        "tau = 0.01\n",
        "\n",
        "xmin = 0\n",
        "xmax = 5\n",
        "xrange = np.arange(xmin, xmax + h, h)\n",
        "\n",
        "u1 = np.zeros((2, len(xrange)))\n",
        "err = np.zeros(len(xrange))\n",
        "\n",
        "u1[0] = [u(xrange[j], 0) for j in range(len(xrange))]\n",
        "\n",
        "\n",
        "for step in range(1, len(xrange)):\n",
        "    u1[0] = u1[1].copy()\n",
        "    u1[1] = p(u1[0], u1[1], tau, step, xrange, h)\n",
        "\n",
        "y = u1[1]\n",
        "\n",
        "yreal = np.zeros(len(xrange))\n",
        "for j in range(len(xrange)):\n",
        "  yreal = [u(xrange[j], tau) for j in range(len(xrange))]\n",
        "\n",
        "plt.figure(figsize=(10,5))\n",
        "plt.xlabel(\"x\")\n",
        "plt.ylabel(\"u и ureal\")\n",
        "plt.grid()\n",
        "plt.plot(xrange, yreal, color='red')\n",
        "plt.plot(xrange, y, linestyle=\"--\")\n"
      ],
      "metadata": {
        "colab": {
          "base_uri": "https://localhost:8080/",
          "height": 352
        },
        "id": "blU5yiaGvArE",
        "outputId": "6661b98b-bc19-4646-90f2-9c425c4f313b"
      },
      "execution_count": 140,
      "outputs": [
        {
          "output_type": "execute_result",
          "data": {
            "text/plain": [
              "[<matplotlib.lines.Line2D at 0x7f88fb18cd90>]"
            ]
          },
          "metadata": {},
          "execution_count": 140
        },
        {
          "output_type": "display_data",
          "data": {
            "text/plain": [
              "<Figure size 720x360 with 1 Axes>"
            ],
            "image/png": "[encoded data removed]"
          },
          "metadata": {
            "needs_background": "light"
          }
        }
      ]
    },
    {
      "cell_type": "markdown",
      "source": [
        "Анимация:"
      ],
      "metadata": {
        "id": "MGIfpaaIDLhc"
      }
    },
    {
      "cell_type": "code",
      "source": [
        "from matplotlib.animation import FuncAnimation, PillowWriter\n",
        "\n",
        "fig = plt.figure(figsize=(10,5))\n",
        "u2 = np.zeros((2, len(xrange)))\n",
        "\n",
        "ax = plt.axes(xlim=(xmin-1, xmax), ylim=(-1, 3))\n",
        "ax.grid(True)\n",
        "line1, = ax.plot([], [], label=\"Numerical solution\", color = 'black' )\n",
        "line2, = ax.plot([], [],  label=\"Analytical solution\", color = 'red')\n",
        "line1.set_data([], [])\n",
        "line2.set_data([], [])\n",
        "\n",
        "\n",
        "def animate(i):\n",
        "    yreal = np.zeros(len(xrange))\n",
        "    if (i == 0 or i == 1):\n",
        "        y = u2[i]\n",
        "        for j in range(len(xrange)):\n",
        "            yreal[j] = u(xrange[j], i * tau)\n",
        "    else:\n",
        "        u2[0] = np.copy(u2[1])\n",
        "        for j in range(50):\n",
        "            u2[1] = next(u2[0], u2[1], tau, i, xrange, h)\n",
        "        y = u2[1]\n",
        "        for j in range(len(xrange)):\n",
        "            yreal[j] = u(xrange[j], i * tau)\n",
        "\n",
        "    line1.set_data(xrange, y)\n",
        "    line2.set_data(xrange, yreal)\n",
        "    return line2, line1\n",
        "\n",
        "anim1 = FuncAnimation(fig, animate,\n",
        "                     frames= 200, interval=100, blit=True)\n",
        "anim1.save('heat.gif',  writer='pillow')\n",
        "\n"
      ],
      "metadata": {
        "colab": {
          "base_uri": "https://localhost:8080/",
          "height": 324
        },
        "id": "hm2mzfsL10mF",
        "outputId": "ece535d9-57f3-4f0d-bbb6-d13a58dcfc4f"
      },
      "execution_count": 141,
      "outputs": [
        {
          "output_type": "display_data",
          "data": {
            "text/plain": [
              "<Figure size 720x360 with 1 Axes>"
            ],
            "image/png": "[encoded data removed]"
          },
          "metadata": {
            "needs_background": "light"
          }
        }
      ]
    }
  ]
}